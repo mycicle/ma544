{
 "cells": [
  {
   "cell_type": "code",
   "execution_count": 33,
   "id": "9c468db6-e6f3-4968-a115-75788ca786f8",
   "metadata": {},
   "outputs": [],
   "source": [
    "import numpy as np\n",
    "from scipy.sparse import coo_matrix, csr_matrix"
   ]
  },
  {
   "cell_type": "markdown",
   "id": "378447e8-ebb5-457b-a9bd-50e50842fcbb",
   "metadata": {},
   "source": [
    "The -1 for col and the starting at 0 for row is because python is zero indexed"
   ]
  },
  {
   "cell_type": "code",
   "execution_count": 24,
   "id": "cee7f042-b3a2-4965-bccd-3383a2ef729e",
   "metadata": {},
   "outputs": [
    {
     "name": "stdout",
     "output_type": "stream",
     "text": [
      "[ 0  0  0  1  1  1  2  2  2  3  3  3  4  4  4  5  5  5  6  6  6  7  7  7\n",
      "  8  8  8  9  9  9 10 10 10 11 11 11 12 12 12 13 13 13 14 14 14 15 15 15\n",
      " 16 16 16 17 17 17 18 18 18 19 19 19 20 20 20 21 21 21 22 22 22 23 23 23\n",
      " 24 24 24 25 25 25 26 26 26 27 27 27 28 28 28 29 29 29 30 30 30 31 31 31\n",
      " 32 32 32 33 33 33 34 34 34 35 35 35 36 36 36 37 37 37 38 38 38 39 39 39\n",
      " 40 40 40 41 41 41 42 42 42 43 43 43 44 44 44 45 45 45 46 46 46 47 47 47\n",
      " 48 48 48 49 49 49 50 50 50 51 51 51 52 52 52 53 53 53 54 54 54 55 55 55\n",
      " 56 56 56 57 57 57 58 58 58 59 59 59]\n",
      "180\n"
     ]
    }
   ],
   "source": [
    "n_conn = 3\n",
    "n_nodes = 60\n",
    "row = []\n",
    "for i in range(n_nodes):\n",
    "    row.extend([i]*3)\n",
    "row = np.asarray(row)\n",
    "print(row)\n",
    "print(len(row))"
   ]
  },
  {
   "cell_type": "code",
   "execution_count": 25,
   "id": "ea963de3-0c28-4ba5-818b-95ccf06dcfc1",
   "metadata": {},
   "outputs": [
    {
     "name": "stdout",
     "output_type": "stream",
     "text": [
      "180\n"
     ]
    }
   ],
   "source": [
    "# I got this massive array of typed numbers from Joshua Schmidt\n",
    "col = np.array([2, 5, 6, 1, 3, 11, 2, 4, 16, 3, 5, 21, 1, 4, 26, 1, 7, 10, 6, 8, 30, 7, 9, 42, 8, 10, 38, 6, 9, 12, \\\n",
    "                2, 12, 15, 10, 11, 13, 12, 14, 37, 13, 15, 33, 11, 14, 17, 3, 17, 20, 15, 16, 18, 17, 19, 32, 18, 20, 53, 16, 19, 22, \\\n",
    "                4, 22, 25, 20, 21, 23, 22, 24, 52, 23, 25, 48, 21, 24, 27, 5, 27, 30, 25, 26, 28, 27, 29, 47, 28, 30, 43, 7, 26, 29, \\\n",
    "                32, 35, 54, 18, 31, 33, 14, 32, 34, 33, 35, 36, 31, 34, 56, 34, 37, 40, 13, 36, 38, 9, 37, 39, 38, 40, 41, 36, 39, 57, \\\n",
    "                39, 42, 45, 8, 41, 43, 29, 42, 44, 43, 45, 46, 41, 44, 58, 44, 47, 50, 28, 46, 48, 24, 47, 49, 48, 50, 51, 46, 49, 59, \\\n",
    "                49, 52, 55, 23, 51, 53, 19, 52, 54, 31, 53, 55, 51, 54, 60, 35, 57, 60, 40, 56, 58, 45, 57, 59, 50, 58, 60, 55, 56, 59]) - 1\n",
    "print(len(col))"
   ]
  },
  {
   "cell_type": "code",
   "execution_count": 26,
   "id": "a40c027c-6b27-4991-a184-979b14d8a109",
   "metadata": {},
   "outputs": [
    {
     "name": "stdout",
     "output_type": "stream",
     "text": [
      "[1. 1. 1. 1. 1. 1. 1. 1. 1. 1. 1. 1. 1. 1. 1. 1. 1. 1. 1. 1. 1. 1. 1. 1.\n",
      " 1. 1. 1. 1. 1. 1. 1. 1. 1. 1. 1. 1. 1. 1. 1. 1. 1. 1. 1. 1. 1. 1. 1. 1.\n",
      " 1. 1. 1. 1. 1. 1. 1. 1. 1. 1. 1. 1. 1. 1. 1. 1. 1. 1. 1. 1. 1. 1. 1. 1.\n",
      " 1. 1. 1. 1. 1. 1. 1. 1. 1. 1. 1. 1. 1. 1. 1. 1. 1. 1. 1. 1. 1. 1. 1. 1.\n",
      " 1. 1. 1. 1. 1. 1. 1. 1. 1. 1. 1. 1. 1. 1. 1. 1. 1. 1. 1. 1. 1. 1. 1. 1.\n",
      " 1. 1. 1. 1. 1. 1. 1. 1. 1. 1. 1. 1. 1. 1. 1. 1. 1. 1. 1. 1. 1. 1. 1. 1.\n",
      " 1. 1. 1. 1. 1. 1. 1. 1. 1. 1. 1. 1. 1. 1. 1. 1. 1. 1. 1. 1. 1. 1. 1. 1.\n",
      " 1. 1. 1. 1. 1. 1. 1. 1. 1. 1. 1. 1.]\n"
     ]
    }
   ],
   "source": [
    "data = np.ones(180)\n",
    "print(data)"
   ]
  },
  {
   "cell_type": "code",
   "execution_count": 27,
   "id": "679e3b69-461f-4ca0-bacc-8ba19c06787f",
   "metadata": {},
   "outputs": [],
   "source": [
    "coo = coo_matrix((data, (row, col)), shape=(n_nodes, n_nodes))"
   ]
  },
  {
   "cell_type": "code",
   "execution_count": 30,
   "id": "bd82cc73-7653-45fe-b1c4-0a5e0997ce56",
   "metadata": {},
   "outputs": [],
   "source": [
    "from matplotlib.pyplot import spy"
   ]
  },
  {
   "cell_type": "code",
   "execution_count": 36,
   "id": "72813d27-7068-4970-9ade-2275f34c30e6",
   "metadata": {},
   "outputs": [
    {
     "data": {
      "text/plain": [
       "<matplotlib.lines.Line2D at 0x2852b59d160>"
      ]
     },
     "execution_count": 36,
     "metadata": {},
     "output_type": "execute_result"
    },
    {
     "data": {
      "image/png": "[encoded data removed]",
      "text/plain": [
       "<Figure size 432x288 with 1 Axes>"
      ]
     },
     "metadata": {
      "needs_background": "light"
     },
     "output_type": "display_data"
    }
   ],
   "source": [
    "spy(coo)"
   ]
  },
  {
   "cell_type": "code",
   "execution_count": 34,
   "id": "49dde348-815b-47f2-9eb8-ceef63eed8e3",
   "metadata": {},
   "outputs": [],
   "source": [
    "csr = csr_matrix((data, (row, col)), shape=(n_nodes, n_nodes))"
   ]
  },
  {
   "cell_type": "code",
   "execution_count": 35,
   "id": "db6ebfc8-8466-4359-a3f0-6889c856e2f6",
   "metadata": {},
   "outputs": [
    {
     "data": {
      "text/plain": [
       "<matplotlib.lines.Line2D at 0x2852b530400>"
      ]
     },
     "execution_count": 35,
     "metadata": {},
     "output_type": "execute_result"
    },
    {
     "data": {
      "image/png": "[encoded data removed]",
      "text/plain": [
       "<Figure size 432x288 with 1 Axes>"
      ]
     },
     "metadata": {
      "needs_background": "light"
     },
     "output_type": "display_data"
    }
   ],
   "source": [
    "spy(csr)"
   ]
  }
 ],
 "metadata": {
  "kernelspec": {
   "display_name": "python_base",
   "language": "python",
   "name": "python_base"
  },
  "language_info": {
   "codemirror_mode": {
    "name": "ipython",
    "version": 3
   },
   "file_extension": ".py",
   "mimetype": "text/x-python",
   "name": "python",
   "nbconvert_exporter": "python",
   "pygments_lexer": "ipython3",
   "version": "3.9.4"
  }
 },
 "nbformat": 4,
 "nbformat_minor": 5
}
